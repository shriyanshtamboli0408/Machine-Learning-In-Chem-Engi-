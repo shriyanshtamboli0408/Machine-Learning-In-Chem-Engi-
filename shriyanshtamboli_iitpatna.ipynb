{
 "cells": [
  {
   "cell_type": "code",
   "execution_count": 57,
   "id": "4a6b07f7-3f6c-422a-a811-7ff6cf091815",
   "metadata": {},
   "outputs": [],
   "source": [
    "import numpy as np\n",
    "import pandas as pd\n",
    "import matplotlib as mp\n",
    "import matplotlib.pyplot as plt\n",
    "\n",
    "%matplotlib inline"
   ]
  },
  {
   "cell_type": "markdown",
   "id": "5d46e3d1-b2f8-4f5c-9301-a8272fdf680a",
   "metadata": {},
   "source": [
    "     Q1. Using NumPy, create a 3D array of shape (4, 4, 4) filled with random numbers between 1 and 100. Find the z score normalisation of each element of the array."
   ]
  },
  {
   "cell_type": "code",
   "execution_count": 37,
   "id": "f68784c1-1bca-4e25-9109-acca704ec0ed",
   "metadata": {},
   "outputs": [
    {
     "name": "stdout",
     "output_type": "stream",
     "text": [
      "[[[65 64 65 19]\n",
      "  [ 4 18 97 89]\n",
      "  [34 45 47 58]\n",
      "  [86 37 28 16]]\n",
      "\n",
      " [[17 85 78 94]\n",
      "  [37  8 85 25]\n",
      "  [86 19 24 93]\n",
      "  [86 73 85 75]]\n",
      "\n",
      " [[59 27 90 31]\n",
      "  [26 36 77 47]\n",
      "  [88 62 97 62]\n",
      "  [88 97 36 95]]\n",
      "\n",
      " [[88 37  2 64]\n",
      "  [28 37 63 41]\n",
      "  [83 68 93 79]\n",
      "  [39 54 44 93]]]\n"
     ]
    }
   ],
   "source": [
    "arr = np.array(np.random.randint(low=1, high= 100, size=(4,4,4)))\n",
    "print(arr)"
   ]
  },
  {
   "cell_type": "code",
   "execution_count": 38,
   "id": "d8f4cdbc-98ca-44ff-8591-3c720f16e8ee",
   "metadata": {},
   "outputs": [
    {
     "name": "stdout",
     "output_type": "stream",
     "text": [
      "[[[ 0.27021887  0.23470756  0.27021887 -1.36330135]\n",
      "  [-1.89597099 -1.39881266  1.40658076  1.12249029]\n",
      "  [-0.83063171 -0.44000731 -0.3689847   0.0216397 ]\n",
      "  [ 1.01595636 -0.72409779 -1.04369957 -1.46983528]]\n",
      "\n",
      " [[-1.43432397  0.98044505  0.73186589  1.30004683]\n",
      "  [-0.72409779 -1.75392575  0.98044505 -1.1502335 ]\n",
      "  [ 1.01595636 -1.36330135 -1.1857448   1.26453552]\n",
      "  [ 1.01595636  0.55430934  0.98044505  0.62533196]]\n",
      "\n",
      " [[ 0.05715101 -1.07921088  1.15800159 -0.93716564]\n",
      "  [-1.11472219 -0.7596091   0.69635458 -0.3689847 ]\n",
      "  [ 1.08697898  0.16368494  1.40658076  0.16368494]\n",
      "  [ 1.08697898  1.40658076 -0.7596091   1.33555814]]\n",
      "\n",
      " [[ 1.08697898 -0.72409779 -1.9669936   0.23470756]\n",
      "  [-1.04369957 -0.72409779  0.19919625 -0.58205255]\n",
      "  [ 0.90942243  0.37675279  1.26453552  0.76737719]\n",
      "  [-0.65307517 -0.12040553 -0.47551862  1.26453552]]]\n"
     ]
    }
   ],
   "source": [
    "# Step 2: Compute Z-score normalization\n",
    "# Z = (X - mean) / std    ,std-standard deviation of array\n",
    "mean = np.mean(arr)\n",
    "std = np.std(arr)\n",
    "z_score_array = (arr - mean) / std\n",
    "\n",
    "print(z_score_array)\n"
   ]
  },
  {
   "cell_type": "markdown",
   "id": "83678dc7-a7e1-43cf-9fb3-477ec44fee25",
   "metadata": {},
   "source": [
    "        Q2. Using Pandas, filter the rows in the Iris dataset where the petal length is greater than 3.0, and display the filtered data."
   ]
  },
  {
   "cell_type": "code",
   "execution_count": 66,
   "id": "37e15ecf-37c9-4bbe-9f45-cd08a679b187",
   "metadata": {},
   "outputs": [
    {
     "name": "stdout",
     "output_type": "stream",
     "text": [
      "   sepal length (cm)  sepal width (cm)  petal length (cm)  petal width (cm)\n",
      "0                5.1               3.5                1.4               0.2\n",
      "1                4.9               3.0                1.4               0.2\n",
      "2                4.7               3.2                1.3               0.2\n",
      "3                4.6               3.1                1.5               0.2\n",
      "4                5.0               3.6                1.4               0.2\n"
     ]
    }
   ],
   "source": [
    "from sklearn.datasets import load_iris\n",
    "df2 = load_iris()\n",
    "df2_1 = pd.DataFrame(data=df2.data, columns=df2.feature_names)\n",
    "print(df2_1.head())   #printing first five. "
   ]
  },
  {
   "cell_type": "code",
   "execution_count": 49,
   "id": "bf9e96b0-5e2e-4f68-afcb-5e927778b84f",
   "metadata": {},
   "outputs": [
    {
     "name": "stdout",
     "output_type": "stream",
     "text": [
      "     sepal length (cm)  sepal width (cm)  petal length (cm)  petal width (cm)\n",
      "50                 7.0               3.2                4.7               1.4\n",
      "51                 6.4               3.2                4.5               1.5\n",
      "52                 6.9               3.1                4.9               1.5\n",
      "53                 5.5               2.3                4.0               1.3\n",
      "54                 6.5               2.8                4.6               1.5\n",
      "..                 ...               ...                ...               ...\n",
      "145                6.7               3.0                5.2               2.3\n",
      "146                6.3               2.5                5.0               1.9\n",
      "147                6.5               3.0                5.2               2.0\n",
      "148                6.2               3.4                5.4               2.3\n",
      "149                5.9               3.0                5.1               1.8\n",
      "\n",
      "[99 rows x 4 columns]\n"
     ]
    }
   ],
   "source": [
    "#filtering data (condition = patel length is greater than 3)\n",
    "\n",
    "filtered_data = df2_1[df2_1['petal length (cm)'] > 3.0]\n",
    "\n",
    "print(filtered_data)"
   ]
  },
  {
   "cell_type": "markdown",
   "id": "c6ef63dc-51d1-4351-a45f-b460c69a14e9",
   "metadata": {},
   "source": [
    "    Q3. Using Matplotlib, plot a line graph showing the trend of a numerical dataset. Customize the plot with title, axis labels, and a legend."
   ]
  },
  {
   "cell_type": "code",
   "execution_count": 56,
   "id": "af894afb-73ca-40b4-bb24-7ace838aacca",
   "metadata": {},
   "outputs": [
    {
     "data": {
      "image/png": "[encoded data removed]",
      "text/plain": [
       "<Figure size 640x480 with 1 Axes>"
      ]
     },
     "metadata": {},
     "output_type": "display_data"
    }
   ],
   "source": [
    "x = [2,4,6,8,10]\n",
    "y = [1,3,5,7,9]\n",
    "plt.plot(x, y, label=\"Line Graph\", color=\"blue\", linestyle=\"-\", marker=\"*\")\n",
    "\n",
    "plt.title(\"Odd Vs Even number (first five)\", fontsize=10)\n",
    "plt.xlabel(\"Even numbers\", fontsize=8)\n",
    "plt.ylabel(\"Odd numbers\", fontsize=8)\n",
    "plt.legend(loc = 'lower right',fontsize=9)\n",
    "\n",
    "plt.show()\n"
   ]
  },
  {
   "cell_type": "markdown",
   "id": "32eb979f-9882-4839-8acd-1967f6f3f617",
   "metadata": {},
   "source": [
    "    Q4.Create a Pandas DataFrame with random values with at least 3 columns and perform the following operations: (i) Replace NaN values with the mean of the column. (ii) Sort the DataFrame based on any two columns."
   ]
  },
  {
   "cell_type": "code",
   "execution_count": 30,
   "id": "6ba7cf04-f53e-4374-b224-66c77cc66701",
   "metadata": {},
   "outputs": [
    {
     "data": {
      "text/html": [
       "<div>\n",
       "<style scoped>\n",
       "    .dataframe tbody tr th:only-of-type {\n",
       "        vertical-align: middle;\n",
       "    }\n",
       "\n",
       "    .dataframe tbody tr th {\n",
       "        vertical-align: top;\n",
       "    }\n",
       "\n",
       "    .dataframe thead th {\n",
       "        text-align: right;\n",
       "    }\n",
       "</style>\n",
       "<table border=\"1\" class=\"dataframe\">\n",
       "  <thead>\n",
       "    <tr style=\"text-align: right;\">\n",
       "      <th></th>\n",
       "      <th>A</th>\n",
       "      <th>B</th>\n",
       "      <th>C</th>\n",
       "    </tr>\n",
       "  </thead>\n",
       "  <tbody>\n",
       "    <tr>\n",
       "      <th>0</th>\n",
       "      <td>6.0</td>\n",
       "      <td>12.0</td>\n",
       "      <td>23.0</td>\n",
       "    </tr>\n",
       "    <tr>\n",
       "      <th>1</th>\n",
       "      <td>3.0</td>\n",
       "      <td>16.0</td>\n",
       "      <td>NaN</td>\n",
       "    </tr>\n",
       "    <tr>\n",
       "      <th>2</th>\n",
       "      <td>7.0</td>\n",
       "      <td>16.0</td>\n",
       "      <td>28.0</td>\n",
       "    </tr>\n",
       "    <tr>\n",
       "      <th>3</th>\n",
       "      <td>4.0</td>\n",
       "      <td>11.0</td>\n",
       "      <td>24.0</td>\n",
       "    </tr>\n",
       "    <tr>\n",
       "      <th>4</th>\n",
       "      <td>6.0</td>\n",
       "      <td>14.0</td>\n",
       "      <td>27.0</td>\n",
       "    </tr>\n",
       "    <tr>\n",
       "      <th>5</th>\n",
       "      <td>9.0</td>\n",
       "      <td>13.0</td>\n",
       "      <td>NaN</td>\n",
       "    </tr>\n",
       "    <tr>\n",
       "      <th>6</th>\n",
       "      <td>2.0</td>\n",
       "      <td>10.0</td>\n",
       "      <td>29.0</td>\n",
       "    </tr>\n",
       "    <tr>\n",
       "      <th>7</th>\n",
       "      <td>6.0</td>\n",
       "      <td>16.0</td>\n",
       "      <td>29.0</td>\n",
       "    </tr>\n",
       "    <tr>\n",
       "      <th>8</th>\n",
       "      <td>7.0</td>\n",
       "      <td>14.0</td>\n",
       "      <td>28.0</td>\n",
       "    </tr>\n",
       "    <tr>\n",
       "      <th>9</th>\n",
       "      <td>4.0</td>\n",
       "      <td>10.0</td>\n",
       "      <td>21.0</td>\n",
       "    </tr>\n",
       "  </tbody>\n",
       "</table>\n",
       "</div>"
      ],
      "text/plain": [
       "     A     B     C\n",
       "0  6.0  12.0  23.0\n",
       "1  3.0  16.0   NaN\n",
       "2  7.0  16.0  28.0\n",
       "3  4.0  11.0  24.0\n",
       "4  6.0  14.0  27.0\n",
       "5  9.0  13.0   NaN\n",
       "6  2.0  10.0  29.0\n",
       "7  6.0  16.0  29.0\n",
       "8  7.0  14.0  28.0\n",
       "9  4.0  10.0  21.0"
      ]
     },
     "execution_count": 30,
     "metadata": {},
     "output_type": "execute_result"
    }
   ],
   "source": [
    "np.random.seed(42)\n",
    "data = {\n",
    "    'A': np.random.choice([np.nan, *range(1, 10)], size=10),\n",
    "    'B': np.random.choice([np.nan, *range(10, 20)], size=10),\n",
    "    'C': np.random.choice([np.nan, *range(20, 30)], size=10),\n",
    "}\n",
    "df4 = pd.DataFrame(data)\n",
    "df4\n"
   ]
  },
  {
   "cell_type": "code",
   "execution_count": 31,
   "id": "e29639c8-4893-4f88-a8d5-01767310f32c",
   "metadata": {},
   "outputs": [
    {
     "data": {
      "text/html": [
       "<div>\n",
       "<style scoped>\n",
       "    .dataframe tbody tr th:only-of-type {\n",
       "        vertical-align: middle;\n",
       "    }\n",
       "\n",
       "    .dataframe tbody tr th {\n",
       "        vertical-align: top;\n",
       "    }\n",
       "\n",
       "    .dataframe thead th {\n",
       "        text-align: right;\n",
       "    }\n",
       "</style>\n",
       "<table border=\"1\" class=\"dataframe\">\n",
       "  <thead>\n",
       "    <tr style=\"text-align: right;\">\n",
       "      <th></th>\n",
       "      <th>A</th>\n",
       "      <th>B</th>\n",
       "      <th>C</th>\n",
       "    </tr>\n",
       "  </thead>\n",
       "  <tbody>\n",
       "    <tr>\n",
       "      <th>0</th>\n",
       "      <td>6.0</td>\n",
       "      <td>12.0</td>\n",
       "      <td>23.000</td>\n",
       "    </tr>\n",
       "    <tr>\n",
       "      <th>1</th>\n",
       "      <td>3.0</td>\n",
       "      <td>16.0</td>\n",
       "      <td>26.125</td>\n",
       "    </tr>\n",
       "    <tr>\n",
       "      <th>2</th>\n",
       "      <td>7.0</td>\n",
       "      <td>16.0</td>\n",
       "      <td>28.000</td>\n",
       "    </tr>\n",
       "    <tr>\n",
       "      <th>3</th>\n",
       "      <td>4.0</td>\n",
       "      <td>11.0</td>\n",
       "      <td>24.000</td>\n",
       "    </tr>\n",
       "    <tr>\n",
       "      <th>4</th>\n",
       "      <td>6.0</td>\n",
       "      <td>14.0</td>\n",
       "      <td>27.000</td>\n",
       "    </tr>\n",
       "    <tr>\n",
       "      <th>5</th>\n",
       "      <td>9.0</td>\n",
       "      <td>13.0</td>\n",
       "      <td>26.125</td>\n",
       "    </tr>\n",
       "    <tr>\n",
       "      <th>6</th>\n",
       "      <td>2.0</td>\n",
       "      <td>10.0</td>\n",
       "      <td>29.000</td>\n",
       "    </tr>\n",
       "    <tr>\n",
       "      <th>7</th>\n",
       "      <td>6.0</td>\n",
       "      <td>16.0</td>\n",
       "      <td>29.000</td>\n",
       "    </tr>\n",
       "    <tr>\n",
       "      <th>8</th>\n",
       "      <td>7.0</td>\n",
       "      <td>14.0</td>\n",
       "      <td>28.000</td>\n",
       "    </tr>\n",
       "    <tr>\n",
       "      <th>9</th>\n",
       "      <td>4.0</td>\n",
       "      <td>10.0</td>\n",
       "      <td>21.000</td>\n",
       "    </tr>\n",
       "  </tbody>\n",
       "</table>\n",
       "</div>"
      ],
      "text/plain": [
       "     A     B       C\n",
       "0  6.0  12.0  23.000\n",
       "1  3.0  16.0  26.125\n",
       "2  7.0  16.0  28.000\n",
       "3  4.0  11.0  24.000\n",
       "4  6.0  14.0  27.000\n",
       "5  9.0  13.0  26.125\n",
       "6  2.0  10.0  29.000\n",
       "7  6.0  16.0  29.000\n",
       "8  7.0  14.0  28.000\n",
       "9  4.0  10.0  21.000"
      ]
     },
     "execution_count": 31,
     "metadata": {},
     "output_type": "execute_result"
    }
   ],
   "source": [
    "# (i) Replace NaN values with the mean of the column\n",
    "df4_1 = df4.apply(lambda col: col.fillna(col.mean()), axis=0)\n",
    "df4_1\n",
    "\n"
   ]
  },
  {
   "cell_type": "code",
   "execution_count": 33,
   "id": "e05e9a36-ed08-4bb0-9ad1-ddcaa8230b80",
   "metadata": {},
   "outputs": [
    {
     "data": {
      "text/html": [
       "<div>\n",
       "<style scoped>\n",
       "    .dataframe tbody tr th:only-of-type {\n",
       "        vertical-align: middle;\n",
       "    }\n",
       "\n",
       "    .dataframe tbody tr th {\n",
       "        vertical-align: top;\n",
       "    }\n",
       "\n",
       "    .dataframe thead th {\n",
       "        text-align: right;\n",
       "    }\n",
       "</style>\n",
       "<table border=\"1\" class=\"dataframe\">\n",
       "  <thead>\n",
       "    <tr style=\"text-align: right;\">\n",
       "      <th></th>\n",
       "      <th>A</th>\n",
       "      <th>B</th>\n",
       "      <th>C</th>\n",
       "    </tr>\n",
       "  </thead>\n",
       "  <tbody>\n",
       "    <tr>\n",
       "      <th>6</th>\n",
       "      <td>2.0</td>\n",
       "      <td>10.0</td>\n",
       "      <td>29.000</td>\n",
       "    </tr>\n",
       "    <tr>\n",
       "      <th>1</th>\n",
       "      <td>3.0</td>\n",
       "      <td>16.0</td>\n",
       "      <td>26.125</td>\n",
       "    </tr>\n",
       "    <tr>\n",
       "      <th>9</th>\n",
       "      <td>4.0</td>\n",
       "      <td>10.0</td>\n",
       "      <td>21.000</td>\n",
       "    </tr>\n",
       "    <tr>\n",
       "      <th>3</th>\n",
       "      <td>4.0</td>\n",
       "      <td>11.0</td>\n",
       "      <td>24.000</td>\n",
       "    </tr>\n",
       "    <tr>\n",
       "      <th>0</th>\n",
       "      <td>6.0</td>\n",
       "      <td>12.0</td>\n",
       "      <td>23.000</td>\n",
       "    </tr>\n",
       "    <tr>\n",
       "      <th>4</th>\n",
       "      <td>6.0</td>\n",
       "      <td>14.0</td>\n",
       "      <td>27.000</td>\n",
       "    </tr>\n",
       "    <tr>\n",
       "      <th>7</th>\n",
       "      <td>6.0</td>\n",
       "      <td>16.0</td>\n",
       "      <td>29.000</td>\n",
       "    </tr>\n",
       "    <tr>\n",
       "      <th>8</th>\n",
       "      <td>7.0</td>\n",
       "      <td>14.0</td>\n",
       "      <td>28.000</td>\n",
       "    </tr>\n",
       "    <tr>\n",
       "      <th>2</th>\n",
       "      <td>7.0</td>\n",
       "      <td>16.0</td>\n",
       "      <td>28.000</td>\n",
       "    </tr>\n",
       "    <tr>\n",
       "      <th>5</th>\n",
       "      <td>9.0</td>\n",
       "      <td>13.0</td>\n",
       "      <td>26.125</td>\n",
       "    </tr>\n",
       "  </tbody>\n",
       "</table>\n",
       "</div>"
      ],
      "text/plain": [
       "     A     B       C\n",
       "6  2.0  10.0  29.000\n",
       "1  3.0  16.0  26.125\n",
       "9  4.0  10.0  21.000\n",
       "3  4.0  11.0  24.000\n",
       "0  6.0  12.0  23.000\n",
       "4  6.0  14.0  27.000\n",
       "7  6.0  16.0  29.000\n",
       "8  7.0  14.0  28.000\n",
       "2  7.0  16.0  28.000\n",
       "5  9.0  13.0  26.125"
      ]
     },
     "execution_count": 33,
     "metadata": {},
     "output_type": "execute_result"
    }
   ],
   "source": [
    "# (ii) Sort the DataFrame based on columns 'A' and 'B'\n",
    "df4_2=df4_1.sort_values(by=['A', 'B'])\n",
    "\n",
    "df4_2"
   ]
  },
  {
   "cell_type": "markdown",
   "id": "c914394f-61ef-48fa-9c38-7cc6310a6598",
   "metadata": {},
   "source": [
    "    Q5. Using NumPy, calculate the dot product of two matrices and find the determinant of the resulting matrix."
   ]
  },
  {
   "cell_type": "code",
   "execution_count": 45,
   "id": "ab223cff-1945-4032-ab77-6f0eda610033",
   "metadata": {},
   "outputs": [
    {
     "data": {
      "text/plain": [
       "(array([[1, 2, 3],\n",
       "        [4, 5, 6],\n",
       "        [7, 8, 9]]),\n",
       " array([[1, 2, 1],\n",
       "        [2, 4, 6],\n",
       "        [7, 2, 5]]))"
      ]
     },
     "execution_count": 45,
     "metadata": {},
     "output_type": "execute_result"
    }
   ],
   "source": [
    "arr1 = np.array([[1,2,3],[4,5,6],[7,8,9]])\n",
    "arr2 = np.array([[1,2,1],[2,4,6],[7,2,5]])\n",
    "arr1,arr2\n"
   ]
  },
  {
   "cell_type": "code",
   "execution_count": 46,
   "id": "4fdf4c52-5891-4055-8bd7-bbfec8239878",
   "metadata": {},
   "outputs": [
    {
     "name": "stdout",
     "output_type": "stream",
     "text": [
      "[[ 26  16  28]\n",
      " [ 56  40  64]\n",
      " [ 86  64 100]]\n"
     ]
    }
   ],
   "source": [
    "#Dot product of two matrices \n",
    "arr3 = (arr1@arr2)\n",
    "print(arr3)"
   ]
  },
  {
   "cell_type": "code",
   "execution_count": 48,
   "id": "7b4be48c-e682-4b07-9b79-b030fdd12438",
   "metadata": {},
   "outputs": [
    {
     "name": "stdout",
     "output_type": "stream",
     "text": [
      "0.0\n"
     ]
    }
   ],
   "source": [
    "#Determinant of resultant matrix.\n",
    "resultant = np.linalg.det(arr3)\n",
    "print(resultant)"
   ]
  },
  {
   "cell_type": "markdown",
   "id": "f22e0fe5-2eaa-45bf-b585-7b9b4d4d81ad",
   "metadata": {},
   "source": [
    "    Q6. With Pandas, group a DataFrame by a categorical column and calculate the sum of another numerical column for each group."
   ]
  },
  {
   "cell_type": "code",
   "execution_count": 65,
   "id": "e20bad89-b5cb-4197-98e5-fea60e537a8f",
   "metadata": {},
   "outputs": [
    {
     "data": {
      "text/html": [
       "<div>\n",
       "<style scoped>\n",
       "    .dataframe tbody tr th:only-of-type {\n",
       "        vertical-align: middle;\n",
       "    }\n",
       "\n",
       "    .dataframe tbody tr th {\n",
       "        vertical-align: top;\n",
       "    }\n",
       "\n",
       "    .dataframe thead th {\n",
       "        text-align: right;\n",
       "    }\n",
       "</style>\n",
       "<table border=\"1\" class=\"dataframe\">\n",
       "  <thead>\n",
       "    <tr style=\"text-align: right;\">\n",
       "      <th></th>\n",
       "      <th>Games</th>\n",
       "      <th>Amount</th>\n",
       "    </tr>\n",
       "  </thead>\n",
       "  <tbody>\n",
       "    <tr>\n",
       "      <th>0</th>\n",
       "      <td>RDR</td>\n",
       "      <td>1450</td>\n",
       "    </tr>\n",
       "    <tr>\n",
       "      <th>1</th>\n",
       "      <td>GTA</td>\n",
       "      <td>1990</td>\n",
       "    </tr>\n",
       "    <tr>\n",
       "      <th>2</th>\n",
       "      <td>GTA</td>\n",
       "      <td>1886</td>\n",
       "    </tr>\n",
       "    <tr>\n",
       "      <th>3</th>\n",
       "      <td>Miles Morals</td>\n",
       "      <td>2200</td>\n",
       "    </tr>\n",
       "    <tr>\n",
       "      <th>4</th>\n",
       "      <td>RDR</td>\n",
       "      <td>1450</td>\n",
       "    </tr>\n",
       "  </tbody>\n",
       "</table>\n",
       "</div>"
      ],
      "text/plain": [
       "          Games  Amount\n",
       "0           RDR    1450\n",
       "1           GTA    1990\n",
       "2           GTA    1886\n",
       "3  Miles Morals    2200\n",
       "4           RDR    1450"
      ]
     },
     "execution_count": 65,
     "metadata": {},
     "output_type": "execute_result"
    }
   ],
   "source": [
    "#Making a categorial column and price for each purchase.\n",
    "GamesDetails = {'Games': ['RDR', 'GTA', 'GTA', 'Miles Morals', 'RDR'],\n",
    "        'Amount': [1450, 1990, 1886, 2200, 1450]}\n",
    "df6 = pd.DataFrame(GamesDetails)\n",
    "df6"
   ]
  },
  {
   "cell_type": "code",
   "execution_count": 66,
   "id": "92738168-2f57-4c02-aecb-46d1bda10492",
   "metadata": {},
   "outputs": [
    {
     "name": "stdout",
     "output_type": "stream",
     "text": [
      "          Games  Amount\n",
      "0           GTA    3876\n",
      "1  Miles Morals    2200\n",
      "2           RDR    2900\n"
     ]
    }
   ],
   "source": [
    "#Summing the total in column for each group.\n",
    "result = df6.groupby('Games')['Amount'].sum().reset_index()\n",
    "\n",
    "print(result)"
   ]
  },
  {
   "cell_type": "markdown",
   "id": "7f083999-e923-4559-b9b6-97ee90881562",
   "metadata": {},
   "source": [
    "    Q7. Using Matplotlib, create a histogram to show the distribution of a numerical dataset. Customize the number of bins and add grid lines for better readability."
   ]
  },
  {
   "cell_type": "code",
   "execution_count": 61,
   "id": "94ba7b05-6224-4546-9fae-6ce2ffc7723f",
   "metadata": {},
   "outputs": [
    {
     "data": {
      "image/png": "[encoded data removed]",
      "text/plain": [
       "<Figure size 640x480 with 1 Axes>"
      ]
     },
     "metadata": {},
     "output_type": "display_data"
    }
   ],
   "source": [
    "Number = np.random.randn(800)\n",
    "plt.hist(Number, bins = 20, edgecolor = 'blue', color = 'blue', alpha=0.7)\n",
    "plt.grid(axis='y', alpha=0.7)\n",
    "plt.grid(axis='x', alpha=0.7)\n",
    "plt.show()"
   ]
  },
  {
   "cell_type": "markdown",
   "id": "f89ef0e0-7323-42e2-80bc-7c22b6204b4d",
   "metadata": {},
   "source": [
    "    Q8. Using NumPy, create a 2D array and perform a slicing operation to extract a specific sub-array."
   ]
  },
  {
   "cell_type": "code",
   "execution_count": 137,
   "id": "6ad474b7-4ef0-4b5c-8e5d-86b64db42a7e",
   "metadata": {},
   "outputs": [
    {
     "data": {
      "text/plain": [
       "array([[10, 23, 35],\n",
       "       [ 4, 58, 64],\n",
       "       [ 2,  4,  6]])"
      ]
     },
     "execution_count": 137,
     "metadata": {},
     "output_type": "execute_result"
    }
   ],
   "source": [
    "arr = np.array([[10,23,35],[4,58,64],[2,4,6]])\n",
    "#Printing Original 2D array\n",
    "arr"
   ]
  },
  {
   "cell_type": "code",
   "execution_count": 144,
   "id": "7d3f4887-8593-48f4-b97e-70d2dee12c24",
   "metadata": {},
   "outputs": [
    {
     "name": "stdout",
     "output_type": "stream",
     "text": [
      "[[23 35]\n",
      " [58 64]]\n"
     ]
    }
   ],
   "source": [
    "#Slicing array and printing a sub-array\n",
    "slicedarr = arr[0:2,1:3]\n",
    "print(slicedarr)"
   ]
  },
  {
   "cell_type": "markdown",
   "id": "a7693744-8490-4b83-bd8a-3dcbb3499845",
   "metadata": {},
   "source": [
    "    Q9. Using Pandas, perform a merge operation between two DataFrames based on a common column for dataset of your choice."
   ]
  },
  {
   "cell_type": "code",
   "execution_count": 65,
   "id": "18822d9f-76a3-479e-aa29-24dfc1ea50c3",
   "metadata": {},
   "outputs": [
    {
     "name": "stdout",
     "output_type": "stream",
     "text": [
      "   Roll number     Name Department Grades  Marks\n",
      "0         1001    Randy         CH     AA     98\n",
      "1         1002  Pheonix         CS     AB     86\n",
      "2         1003    Pherb        ECE     DD     39\n",
      "3         1004    Diana         MM      F     13\n"
     ]
    }
   ],
   "source": [
    "df9_1 = pd.DataFrame({\n",
    "    'Roll number': [1001, 1002, 1003, 1004],\n",
    "    'Name': ['Randy', 'Pheonix', 'Pherb', 'Diana'],\n",
    "    'Department': ['CH', 'CS', 'ECE', 'MM']\n",
    "})\n",
    "\n",
    "df9_2 = pd.DataFrame({\n",
    "    'Roll number': [1001, 1002, 1003, 1004],\n",
    "    'Grades': ['AA','AB','DD','F'],\n",
    "    'Marks': [98, 86, 39, 13]\n",
    "})\n",
    "\n",
    "merged_df9_3 = pd.merge(df9_1, df9_2, on='Roll number', how='inner')\n",
    "\n",
    "print(merged_df9_3)"
   ]
  },
  {
   "cell_type": "code",
   "execution_count": null,
   "id": "27a95ff9-db73-4ed4-97db-f124cd38553b",
   "metadata": {},
   "outputs": [],
   "source": []
  },
  {
   "cell_type": "markdown",
   "id": "76ef7554-70fe-4ca7-8f70-420f9c3d31bb",
   "metadata": {},
   "source": [
    "    Q10. Using Matplotlib, create a scatter plot comparing two numerical variables in the dataset of your choice. Customize the plot by changing the color and shape of the data points."
   ]
  },
  {
   "cell_type": "code",
   "execution_count": 160,
   "id": "988fe4fa-3bcc-4398-9742-01eabff0d633",
   "metadata": {},
   "outputs": [
    {
     "data": {
      "image/png": "[encoded data removed]",
      "text/plain": [
       "<Figure size 640x480 with 1 Axes>"
      ]
     },
     "metadata": {},
     "output_type": "display_data"
    }
   ],
   "source": [
    "x = [10,78,56,34,13,23,25,87,90,67,45,55,46,57,89,88,87,86,45,56,11,13,15,55,56,45,57,53,55,58,59,54,53,57,24,25,24,25,26,16]\n",
    "y = [111,134,23,45,23,46,234,34,124,63,166,175,178,190,230,234,256,231,233,270,200,201,222,256,246,112,67,89,194,123,143,156,239,60,65,68,69,67,37,39]\n",
    "plt.scatter(x,y,c='brown',alpha= 0.6,s=40 , marker='*')\n",
    "plt.title('Scatter Plot')\n",
    "plt.show()"
   ]
  }
 ],
 "metadata": {
  "kernelspec": {
   "display_name": "Python 3 (ipykernel)",
   "language": "python",
   "name": "python3"
  },
  "language_info": {
   "codemirror_mode": {
    "name": "ipython",
    "version": 3
   },
   "file_extension": ".py",
   "mimetype": "text/x-python",
   "name": "python",
   "nbconvert_exporter": "python",
   "pygments_lexer": "ipython3",
   "version": "3.12.5"
  }
 },
 "nbformat": 4,
 "nbformat_minor": 5
}
